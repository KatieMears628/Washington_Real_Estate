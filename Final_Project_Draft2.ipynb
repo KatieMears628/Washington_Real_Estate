{
  "cells": [
    {
      "cell_type": "markdown",
      "metadata": {
        "id": "view-in-github",
        "colab_type": "text"
      },
      "source": [
        "<a href=\"https://colab.research.google.com/github/KatieMears628/Washington_Real_Estate/blob/Katie_Mears_Branch/Final_Project_Draft2.ipynb\" target=\"_parent\"><img src=\"https://colab.research.google.com/assets/colab-badge.svg\" alt=\"Open In Colab\"/></a>"
      ]
    },
    {
      "cell_type": "code",
      "execution_count": null,
      "id": "8da66112",
      "metadata": {
        "id": "8da66112"
      },
      "outputs": [],
      "source": [
        "import pandoc as pandoc"
      ]
    },
    {
      "cell_type": "code",
      "execution_count": null,
      "id": "7b08ac36",
      "metadata": {
        "id": "7b08ac36",
        "outputId": "1a6d474f-1272-4331-87b2-e7b842eca6ca"
      },
      "outputs": [
        {
          "data": {
            "text/plain": [
              "'/cloud/project'"
            ]
          },
          "execution_count": 3,
          "metadata": {},
          "output_type": "execute_result"
        }
      ],
      "source": [
        "import os \n",
        "os.getcwd()"
      ]
    },
    {
      "cell_type": "code",
      "execution_count": null,
      "id": "b5bdc337",
      "metadata": {
        "id": "b5bdc337",
        "outputId": "3d6e63ec-e823-4bdb-f091-0d30b27c5eac"
      },
      "outputs": [
        {
          "name": "stdout",
          "output_type": "stream",
          "text": [
            "Files in '/cloud/project': ['Final Project -Draft2.ipynb', '.ipynb_checkpoints', 'welcome.ipynb', 'Untitled.ipynb', 'Final Project .ipynb', '.kernels', 'house_sales.csv']\n"
          ]
        }
      ],
      "source": [
        "cwd = os.getcwd()  # Get the current working directory (cwd)\n",
        "files = os.listdir(cwd)  # Get all the files in that directory\n",
        "print(\"Files in %r: %s\" % (cwd, files))"
      ]
    },
    {
      "cell_type": "markdown",
      "id": "4c3b547c",
      "metadata": {
        "id": "4c3b547c"
      },
      "source": [
        "Libraries: "
      ]
    },
    {
      "cell_type": "code",
      "execution_count": null,
      "id": "1ee92bd3",
      "metadata": {
        "scrolled": true,
        "id": "1ee92bd3"
      },
      "outputs": [],
      "source": [
        "from sklearn.preprocessing import MinMaxScaler"
      ]
    },
    {
      "cell_type": "code",
      "execution_count": null,
      "id": "83109599",
      "metadata": {
        "id": "83109599"
      },
      "outputs": [],
      "source": [
        "import pandas as pd\n",
        "import numpy as np\n",
        "import scipy as sp\n",
        "from scipy.stats import skewtest\n"
      ]
    },
    {
      "cell_type": "code",
      "execution_count": null,
      "id": "53c04caa",
      "metadata": {
        "scrolled": true,
        "id": "53c04caa"
      },
      "outputs": [],
      "source": [
        "import matplotlib.pyplot as plt"
      ]
    },
    {
      "cell_type": "markdown",
      "id": "06ccaa0f",
      "metadata": {
        "id": "06ccaa0f"
      },
      "source": [
        "Data Importing and Preprocessing "
      ]
    },
    {
      "cell_type": "code",
      "execution_count": null,
      "id": "e35df0a9",
      "metadata": {
        "scrolled": true,
        "id": "e35df0a9"
      },
      "outputs": [],
      "source": [
        "salesdata = pd.read_csv(\"house_sales.csv\")"
      ]
    },
    {
      "cell_type": "code",
      "execution_count": null,
      "id": "acb38740",
      "metadata": {
        "id": "acb38740",
        "outputId": "0b3ad23a-a4bd-4c50-e594-b112b29d9293"
      },
      "outputs": [
        {
          "data": {
            "text/html": [
              "<div>\n",
              "<style scoped>\n",
              "    .dataframe tbody tr th:only-of-type {\n",
              "        vertical-align: middle;\n",
              "    }\n",
              "\n",
              "    .dataframe tbody tr th {\n",
              "        vertical-align: top;\n",
              "    }\n",
              "\n",
              "    .dataframe thead th {\n",
              "        text-align: right;\n",
              "    }\n",
              "</style>\n",
              "<table border=\"1\" class=\"dataframe\">\n",
              "  <thead>\n",
              "    <tr style=\"text-align: right;\">\n",
              "      <th></th>\n",
              "      <th>id</th>\n",
              "      <th>date</th>\n",
              "      <th>price</th>\n",
              "      <th>bedrooms</th>\n",
              "      <th>bathrooms</th>\n",
              "      <th>sqft_living</th>\n",
              "      <th>sqft_lot</th>\n",
              "      <th>floors</th>\n",
              "      <th>waterfront</th>\n",
              "      <th>view</th>\n",
              "      <th>...</th>\n",
              "      <th>grade</th>\n",
              "      <th>sqft_above</th>\n",
              "      <th>sqft_basement</th>\n",
              "      <th>yr_built</th>\n",
              "      <th>yr_renovated</th>\n",
              "      <th>zipcode</th>\n",
              "      <th>lat</th>\n",
              "      <th>long</th>\n",
              "      <th>sqft_living15</th>\n",
              "      <th>sqft_lot15</th>\n",
              "    </tr>\n",
              "  </thead>\n",
              "  <tbody>\n",
              "    <tr>\n",
              "      <th>0</th>\n",
              "      <td>7129300520</td>\n",
              "      <td>20141013T000000</td>\n",
              "      <td>221900.0</td>\n",
              "      <td>3.0</td>\n",
              "      <td>1.00</td>\n",
              "      <td>1180.0</td>\n",
              "      <td>5650.0</td>\n",
              "      <td>1.0</td>\n",
              "      <td>0</td>\n",
              "      <td>0</td>\n",
              "      <td>...</td>\n",
              "      <td>7</td>\n",
              "      <td>1180</td>\n",
              "      <td>0</td>\n",
              "      <td>1955</td>\n",
              "      <td>0</td>\n",
              "      <td>98178</td>\n",
              "      <td>47.5112</td>\n",
              "      <td>-122.257</td>\n",
              "      <td>1340</td>\n",
              "      <td>5650</td>\n",
              "    </tr>\n",
              "    <tr>\n",
              "      <th>1</th>\n",
              "      <td>6414100192</td>\n",
              "      <td>20141209T000000</td>\n",
              "      <td>538000.0</td>\n",
              "      <td>3.0</td>\n",
              "      <td>2.25</td>\n",
              "      <td>2570.0</td>\n",
              "      <td>7242.0</td>\n",
              "      <td>2.0</td>\n",
              "      <td>0</td>\n",
              "      <td>0</td>\n",
              "      <td>...</td>\n",
              "      <td>7</td>\n",
              "      <td>2170</td>\n",
              "      <td>400</td>\n",
              "      <td>1951</td>\n",
              "      <td>1991</td>\n",
              "      <td>98125</td>\n",
              "      <td>47.7210</td>\n",
              "      <td>-122.319</td>\n",
              "      <td>1690</td>\n",
              "      <td>7639</td>\n",
              "    </tr>\n",
              "    <tr>\n",
              "      <th>2</th>\n",
              "      <td>5631500400</td>\n",
              "      <td>20150225T000000</td>\n",
              "      <td>180000.0</td>\n",
              "      <td>2.0</td>\n",
              "      <td>1.00</td>\n",
              "      <td>770.0</td>\n",
              "      <td>10000.0</td>\n",
              "      <td>1.0</td>\n",
              "      <td>0</td>\n",
              "      <td>0</td>\n",
              "      <td>...</td>\n",
              "      <td>6</td>\n",
              "      <td>770</td>\n",
              "      <td>0</td>\n",
              "      <td>1933</td>\n",
              "      <td>0</td>\n",
              "      <td>98028</td>\n",
              "      <td>47.7379</td>\n",
              "      <td>-122.233</td>\n",
              "      <td>2720</td>\n",
              "      <td>8062</td>\n",
              "    </tr>\n",
              "    <tr>\n",
              "      <th>3</th>\n",
              "      <td>2487200875</td>\n",
              "      <td>20141209T000000</td>\n",
              "      <td>604000.0</td>\n",
              "      <td>4.0</td>\n",
              "      <td>3.00</td>\n",
              "      <td>1960.0</td>\n",
              "      <td>5000.0</td>\n",
              "      <td>1.0</td>\n",
              "      <td>0</td>\n",
              "      <td>0</td>\n",
              "      <td>...</td>\n",
              "      <td>7</td>\n",
              "      <td>1050</td>\n",
              "      <td>910</td>\n",
              "      <td>1965</td>\n",
              "      <td>0</td>\n",
              "      <td>98136</td>\n",
              "      <td>47.5208</td>\n",
              "      <td>-122.393</td>\n",
              "      <td>1360</td>\n",
              "      <td>5000</td>\n",
              "    </tr>\n",
              "    <tr>\n",
              "      <th>4</th>\n",
              "      <td>1954400510</td>\n",
              "      <td>20150218T000000</td>\n",
              "      <td>510000.0</td>\n",
              "      <td>3.0</td>\n",
              "      <td>2.00</td>\n",
              "      <td>1680.0</td>\n",
              "      <td>8080.0</td>\n",
              "      <td>1.0</td>\n",
              "      <td>0</td>\n",
              "      <td>0</td>\n",
              "      <td>...</td>\n",
              "      <td>8</td>\n",
              "      <td>1680</td>\n",
              "      <td>0</td>\n",
              "      <td>1987</td>\n",
              "      <td>0</td>\n",
              "      <td>98074</td>\n",
              "      <td>47.6168</td>\n",
              "      <td>-122.045</td>\n",
              "      <td>1800</td>\n",
              "      <td>7503</td>\n",
              "    </tr>\n",
              "  </tbody>\n",
              "</table>\n",
              "<p>5 rows × 21 columns</p>\n",
              "</div>"
            ],
            "text/plain": [
              "           id             date     price  bedrooms  bathrooms  sqft_living  \\\n",
              "0  7129300520  20141013T000000  221900.0       3.0       1.00       1180.0   \n",
              "1  6414100192  20141209T000000  538000.0       3.0       2.25       2570.0   \n",
              "2  5631500400  20150225T000000  180000.0       2.0       1.00        770.0   \n",
              "3  2487200875  20141209T000000  604000.0       4.0       3.00       1960.0   \n",
              "4  1954400510  20150218T000000  510000.0       3.0       2.00       1680.0   \n",
              "\n",
              "   sqft_lot  floors  waterfront  view  ...  grade  sqft_above  sqft_basement  \\\n",
              "0    5650.0     1.0           0     0  ...      7        1180              0   \n",
              "1    7242.0     2.0           0     0  ...      7        2170            400   \n",
              "2   10000.0     1.0           0     0  ...      6         770              0   \n",
              "3    5000.0     1.0           0     0  ...      7        1050            910   \n",
              "4    8080.0     1.0           0     0  ...      8        1680              0   \n",
              "\n",
              "   yr_built  yr_renovated  zipcode      lat     long  sqft_living15  \\\n",
              "0      1955             0    98178  47.5112 -122.257           1340   \n",
              "1      1951          1991    98125  47.7210 -122.319           1690   \n",
              "2      1933             0    98028  47.7379 -122.233           2720   \n",
              "3      1965             0    98136  47.5208 -122.393           1360   \n",
              "4      1987             0    98074  47.6168 -122.045           1800   \n",
              "\n",
              "   sqft_lot15  \n",
              "0        5650  \n",
              "1        7639  \n",
              "2        8062  \n",
              "3        5000  \n",
              "4        7503  \n",
              "\n",
              "[5 rows x 21 columns]"
            ]
          },
          "execution_count": 9,
          "metadata": {},
          "output_type": "execute_result"
        }
      ],
      "source": [
        "salesdata.head()"
      ]
    },
    {
      "cell_type": "code",
      "execution_count": null,
      "id": "8c22d2c0",
      "metadata": {
        "id": "8c22d2c0",
        "outputId": "fe50fe2d-2260-4126-9714-843469f98c3b"
      },
      "outputs": [
        {
          "data": {
            "text/html": [
              "<div>\n",
              "<style scoped>\n",
              "    .dataframe tbody tr th:only-of-type {\n",
              "        vertical-align: middle;\n",
              "    }\n",
              "\n",
              "    .dataframe tbody tr th {\n",
              "        vertical-align: top;\n",
              "    }\n",
              "\n",
              "    .dataframe thead th {\n",
              "        text-align: right;\n",
              "    }\n",
              "</style>\n",
              "<table border=\"1\" class=\"dataframe\">\n",
              "  <thead>\n",
              "    <tr style=\"text-align: right;\">\n",
              "      <th></th>\n",
              "      <th>id</th>\n",
              "      <th>date</th>\n",
              "      <th>price</th>\n",
              "      <th>bedrooms</th>\n",
              "      <th>bathrooms</th>\n",
              "      <th>sqft_living</th>\n",
              "      <th>sqft_lot</th>\n",
              "      <th>floors</th>\n",
              "      <th>waterfront</th>\n",
              "      <th>view</th>\n",
              "      <th>...</th>\n",
              "      <th>grade</th>\n",
              "      <th>sqft_above</th>\n",
              "      <th>sqft_basement</th>\n",
              "      <th>yr_built</th>\n",
              "      <th>yr_renovated</th>\n",
              "      <th>zipcode</th>\n",
              "      <th>lat</th>\n",
              "      <th>long</th>\n",
              "      <th>sqft_living15</th>\n",
              "      <th>sqft_lot15</th>\n",
              "    </tr>\n",
              "  </thead>\n",
              "  <tbody>\n",
              "    <tr>\n",
              "      <th>21608</th>\n",
              "      <td>263000018</td>\n",
              "      <td>20140521T000000</td>\n",
              "      <td>360000.0</td>\n",
              "      <td>3.0</td>\n",
              "      <td>2.50</td>\n",
              "      <td>1530.0</td>\n",
              "      <td>1131.0</td>\n",
              "      <td>3.0</td>\n",
              "      <td>0</td>\n",
              "      <td>0</td>\n",
              "      <td>...</td>\n",
              "      <td>8</td>\n",
              "      <td>1530</td>\n",
              "      <td>0</td>\n",
              "      <td>2009</td>\n",
              "      <td>0</td>\n",
              "      <td>98103</td>\n",
              "      <td>47.6993</td>\n",
              "      <td>-122.346</td>\n",
              "      <td>1530</td>\n",
              "      <td>1509</td>\n",
              "    </tr>\n",
              "    <tr>\n",
              "      <th>21609</th>\n",
              "      <td>6600060120</td>\n",
              "      <td>20150223T000000</td>\n",
              "      <td>400000.0</td>\n",
              "      <td>4.0</td>\n",
              "      <td>2.50</td>\n",
              "      <td>2310.0</td>\n",
              "      <td>5813.0</td>\n",
              "      <td>2.0</td>\n",
              "      <td>0</td>\n",
              "      <td>0</td>\n",
              "      <td>...</td>\n",
              "      <td>8</td>\n",
              "      <td>2310</td>\n",
              "      <td>0</td>\n",
              "      <td>2014</td>\n",
              "      <td>0</td>\n",
              "      <td>98146</td>\n",
              "      <td>47.5107</td>\n",
              "      <td>-122.362</td>\n",
              "      <td>1830</td>\n",
              "      <td>7200</td>\n",
              "    </tr>\n",
              "    <tr>\n",
              "      <th>21610</th>\n",
              "      <td>1523300141</td>\n",
              "      <td>20140623T000000</td>\n",
              "      <td>402101.0</td>\n",
              "      <td>2.0</td>\n",
              "      <td>0.75</td>\n",
              "      <td>1020.0</td>\n",
              "      <td>1350.0</td>\n",
              "      <td>2.0</td>\n",
              "      <td>0</td>\n",
              "      <td>0</td>\n",
              "      <td>...</td>\n",
              "      <td>7</td>\n",
              "      <td>1020</td>\n",
              "      <td>0</td>\n",
              "      <td>2009</td>\n",
              "      <td>0</td>\n",
              "      <td>98144</td>\n",
              "      <td>47.5944</td>\n",
              "      <td>-122.299</td>\n",
              "      <td>1020</td>\n",
              "      <td>2007</td>\n",
              "    </tr>\n",
              "    <tr>\n",
              "      <th>21611</th>\n",
              "      <td>291310100</td>\n",
              "      <td>20150116T000000</td>\n",
              "      <td>400000.0</td>\n",
              "      <td>3.0</td>\n",
              "      <td>2.50</td>\n",
              "      <td>1600.0</td>\n",
              "      <td>2388.0</td>\n",
              "      <td>2.0</td>\n",
              "      <td>0</td>\n",
              "      <td>0</td>\n",
              "      <td>...</td>\n",
              "      <td>8</td>\n",
              "      <td>1600</td>\n",
              "      <td>0</td>\n",
              "      <td>2004</td>\n",
              "      <td>0</td>\n",
              "      <td>98027</td>\n",
              "      <td>47.5345</td>\n",
              "      <td>-122.069</td>\n",
              "      <td>1410</td>\n",
              "      <td>1287</td>\n",
              "    </tr>\n",
              "    <tr>\n",
              "      <th>21612</th>\n",
              "      <td>1523300157</td>\n",
              "      <td>20141015T000000</td>\n",
              "      <td>325000.0</td>\n",
              "      <td>2.0</td>\n",
              "      <td>0.75</td>\n",
              "      <td>1020.0</td>\n",
              "      <td>1076.0</td>\n",
              "      <td>2.0</td>\n",
              "      <td>0</td>\n",
              "      <td>0</td>\n",
              "      <td>...</td>\n",
              "      <td>7</td>\n",
              "      <td>1020</td>\n",
              "      <td>0</td>\n",
              "      <td>2008</td>\n",
              "      <td>0</td>\n",
              "      <td>98144</td>\n",
              "      <td>47.5941</td>\n",
              "      <td>-122.299</td>\n",
              "      <td>1020</td>\n",
              "      <td>1357</td>\n",
              "    </tr>\n",
              "  </tbody>\n",
              "</table>\n",
              "<p>5 rows × 21 columns</p>\n",
              "</div>"
            ],
            "text/plain": [
              "               id             date     price  bedrooms  bathrooms  \\\n",
              "21608   263000018  20140521T000000  360000.0       3.0       2.50   \n",
              "21609  6600060120  20150223T000000  400000.0       4.0       2.50   \n",
              "21610  1523300141  20140623T000000  402101.0       2.0       0.75   \n",
              "21611   291310100  20150116T000000  400000.0       3.0       2.50   \n",
              "21612  1523300157  20141015T000000  325000.0       2.0       0.75   \n",
              "\n",
              "       sqft_living  sqft_lot  floors  waterfront  view  ...  grade  \\\n",
              "21608       1530.0    1131.0     3.0           0     0  ...      8   \n",
              "21609       2310.0    5813.0     2.0           0     0  ...      8   \n",
              "21610       1020.0    1350.0     2.0           0     0  ...      7   \n",
              "21611       1600.0    2388.0     2.0           0     0  ...      8   \n",
              "21612       1020.0    1076.0     2.0           0     0  ...      7   \n",
              "\n",
              "       sqft_above  sqft_basement  yr_built  yr_renovated  zipcode      lat  \\\n",
              "21608        1530              0      2009             0    98103  47.6993   \n",
              "21609        2310              0      2014             0    98146  47.5107   \n",
              "21610        1020              0      2009             0    98144  47.5944   \n",
              "21611        1600              0      2004             0    98027  47.5345   \n",
              "21612        1020              0      2008             0    98144  47.5941   \n",
              "\n",
              "          long  sqft_living15  sqft_lot15  \n",
              "21608 -122.346           1530        1509  \n",
              "21609 -122.362           1830        7200  \n",
              "21610 -122.299           1020        2007  \n",
              "21611 -122.069           1410        1287  \n",
              "21612 -122.299           1020        1357  \n",
              "\n",
              "[5 rows x 21 columns]"
            ]
          },
          "execution_count": 10,
          "metadata": {},
          "output_type": "execute_result"
        }
      ],
      "source": [
        "salesdata.tail()"
      ]
    },
    {
      "cell_type": "code",
      "execution_count": null,
      "id": "c51637d0",
      "metadata": {
        "id": "c51637d0",
        "outputId": "3d67c77a-de90-4241-f26b-f64b0074db80"
      },
      "outputs": [
        {
          "name": "stdout",
          "output_type": "stream",
          "text": [
            "<class 'pandas.core.frame.DataFrame'>\n",
            "RangeIndex: 21613 entries, 0 to 21612\n",
            "Data columns (total 21 columns):\n",
            " #   Column         Non-Null Count  Dtype  \n",
            "---  ------         --------------  -----  \n",
            " 0   id             21613 non-null  int64  \n",
            " 1   date           21613 non-null  object \n",
            " 2   price          21613 non-null  float64\n",
            " 3   bedrooms       20479 non-null  float64\n",
            " 4   bathrooms      20545 non-null  float64\n",
            " 5   sqft_living    20503 non-null  float64\n",
            " 6   sqft_lot       20569 non-null  float64\n",
            " 7   floors         21613 non-null  float64\n",
            " 8   waterfront     21613 non-null  int64  \n",
            " 9   view           21613 non-null  int64  \n",
            " 10  condition      21613 non-null  int64  \n",
            " 11  grade          21613 non-null  int64  \n",
            " 12  sqft_above     21613 non-null  int64  \n",
            " 13  sqft_basement  21613 non-null  int64  \n",
            " 14  yr_built       21613 non-null  int64  \n",
            " 15  yr_renovated   21613 non-null  int64  \n",
            " 16  zipcode        21613 non-null  int64  \n",
            " 17  lat            21613 non-null  float64\n",
            " 18  long           21613 non-null  float64\n",
            " 19  sqft_living15  21613 non-null  int64  \n",
            " 20  sqft_lot15     21613 non-null  int64  \n",
            "dtypes: float64(8), int64(12), object(1)\n",
            "memory usage: 3.5+ MB\n"
          ]
        }
      ],
      "source": [
        "salesdata.info()"
      ]
    },
    {
      "cell_type": "code",
      "execution_count": null,
      "id": "3e32c950",
      "metadata": {
        "id": "3e32c950",
        "outputId": "95165f03-4c5e-4d94-b2ad-d47afad98988"
      },
      "outputs": [
        {
          "data": {
            "text/html": [
              "<div>\n",
              "<style scoped>\n",
              "    .dataframe tbody tr th:only-of-type {\n",
              "        vertical-align: middle;\n",
              "    }\n",
              "\n",
              "    .dataframe tbody tr th {\n",
              "        vertical-align: top;\n",
              "    }\n",
              "\n",
              "    .dataframe thead th {\n",
              "        text-align: right;\n",
              "    }\n",
              "</style>\n",
              "<table border=\"1\" class=\"dataframe\">\n",
              "  <thead>\n",
              "    <tr style=\"text-align: right;\">\n",
              "      <th></th>\n",
              "      <th>id</th>\n",
              "      <th>price</th>\n",
              "      <th>bedrooms</th>\n",
              "      <th>bathrooms</th>\n",
              "      <th>sqft_living</th>\n",
              "      <th>sqft_lot</th>\n",
              "      <th>floors</th>\n",
              "      <th>waterfront</th>\n",
              "      <th>view</th>\n",
              "      <th>condition</th>\n",
              "      <th>grade</th>\n",
              "      <th>sqft_above</th>\n",
              "      <th>sqft_basement</th>\n",
              "      <th>yr_built</th>\n",
              "      <th>yr_renovated</th>\n",
              "      <th>zipcode</th>\n",
              "      <th>lat</th>\n",
              "      <th>long</th>\n",
              "      <th>sqft_living15</th>\n",
              "      <th>sqft_lot15</th>\n",
              "    </tr>\n",
              "  </thead>\n",
              "  <tbody>\n",
              "    <tr>\n",
              "      <th>count</th>\n",
              "      <td>2.161300e+04</td>\n",
              "      <td>2.161300e+04</td>\n",
              "      <td>20479.000000</td>\n",
              "      <td>20545.000000</td>\n",
              "      <td>20503.000000</td>\n",
              "      <td>2.056900e+04</td>\n",
              "      <td>21613.000000</td>\n",
              "      <td>21613.000000</td>\n",
              "      <td>21613.000000</td>\n",
              "      <td>21613.000000</td>\n",
              "      <td>21613.000000</td>\n",
              "      <td>21613.000000</td>\n",
              "      <td>21613.000000</td>\n",
              "      <td>21613.000000</td>\n",
              "      <td>21613.000000</td>\n",
              "      <td>21613.000000</td>\n",
              "      <td>21613.000000</td>\n",
              "      <td>21613.000000</td>\n",
              "      <td>21613.000000</td>\n",
              "      <td>21613.000000</td>\n",
              "    </tr>\n",
              "    <tr>\n",
              "      <th>mean</th>\n",
              "      <td>4.580302e+09</td>\n",
              "      <td>5.400881e+05</td>\n",
              "      <td>3.372821</td>\n",
              "      <td>2.113507</td>\n",
              "      <td>2081.073697</td>\n",
              "      <td>1.517982e+04</td>\n",
              "      <td>1.494309</td>\n",
              "      <td>0.007542</td>\n",
              "      <td>0.234303</td>\n",
              "      <td>3.409430</td>\n",
              "      <td>7.656873</td>\n",
              "      <td>1788.390691</td>\n",
              "      <td>291.509045</td>\n",
              "      <td>1971.005136</td>\n",
              "      <td>84.402258</td>\n",
              "      <td>98077.939805</td>\n",
              "      <td>47.560053</td>\n",
              "      <td>-122.213896</td>\n",
              "      <td>1986.552492</td>\n",
              "      <td>12768.455652</td>\n",
              "    </tr>\n",
              "    <tr>\n",
              "      <th>std</th>\n",
              "      <td>2.876566e+09</td>\n",
              "      <td>3.671272e+05</td>\n",
              "      <td>0.930711</td>\n",
              "      <td>0.768913</td>\n",
              "      <td>915.043176</td>\n",
              "      <td>4.148617e+04</td>\n",
              "      <td>0.539989</td>\n",
              "      <td>0.086517</td>\n",
              "      <td>0.766318</td>\n",
              "      <td>0.650743</td>\n",
              "      <td>1.175459</td>\n",
              "      <td>828.090978</td>\n",
              "      <td>442.575043</td>\n",
              "      <td>29.373411</td>\n",
              "      <td>401.679240</td>\n",
              "      <td>53.505026</td>\n",
              "      <td>0.138564</td>\n",
              "      <td>0.140828</td>\n",
              "      <td>685.391304</td>\n",
              "      <td>27304.179631</td>\n",
              "    </tr>\n",
              "    <tr>\n",
              "      <th>min</th>\n",
              "      <td>1.000102e+06</td>\n",
              "      <td>7.500000e+04</td>\n",
              "      <td>0.000000</td>\n",
              "      <td>0.000000</td>\n",
              "      <td>290.000000</td>\n",
              "      <td>5.200000e+02</td>\n",
              "      <td>1.000000</td>\n",
              "      <td>0.000000</td>\n",
              "      <td>0.000000</td>\n",
              "      <td>1.000000</td>\n",
              "      <td>1.000000</td>\n",
              "      <td>290.000000</td>\n",
              "      <td>0.000000</td>\n",
              "      <td>1900.000000</td>\n",
              "      <td>0.000000</td>\n",
              "      <td>98001.000000</td>\n",
              "      <td>47.155900</td>\n",
              "      <td>-122.519000</td>\n",
              "      <td>399.000000</td>\n",
              "      <td>651.000000</td>\n",
              "    </tr>\n",
              "    <tr>\n",
              "      <th>25%</th>\n",
              "      <td>2.123049e+09</td>\n",
              "      <td>3.219500e+05</td>\n",
              "      <td>3.000000</td>\n",
              "      <td>1.500000</td>\n",
              "      <td>1430.000000</td>\n",
              "      <td>5.040000e+03</td>\n",
              "      <td>1.000000</td>\n",
              "      <td>0.000000</td>\n",
              "      <td>0.000000</td>\n",
              "      <td>3.000000</td>\n",
              "      <td>7.000000</td>\n",
              "      <td>1190.000000</td>\n",
              "      <td>0.000000</td>\n",
              "      <td>1951.000000</td>\n",
              "      <td>0.000000</td>\n",
              "      <td>98033.000000</td>\n",
              "      <td>47.471000</td>\n",
              "      <td>-122.328000</td>\n",
              "      <td>1490.000000</td>\n",
              "      <td>5100.000000</td>\n",
              "    </tr>\n",
              "    <tr>\n",
              "      <th>50%</th>\n",
              "      <td>3.904930e+09</td>\n",
              "      <td>4.500000e+05</td>\n",
              "      <td>3.000000</td>\n",
              "      <td>2.250000</td>\n",
              "      <td>1920.000000</td>\n",
              "      <td>7.620000e+03</td>\n",
              "      <td>1.500000</td>\n",
              "      <td>0.000000</td>\n",
              "      <td>0.000000</td>\n",
              "      <td>3.000000</td>\n",
              "      <td>7.000000</td>\n",
              "      <td>1560.000000</td>\n",
              "      <td>0.000000</td>\n",
              "      <td>1975.000000</td>\n",
              "      <td>0.000000</td>\n",
              "      <td>98065.000000</td>\n",
              "      <td>47.571800</td>\n",
              "      <td>-122.230000</td>\n",
              "      <td>1840.000000</td>\n",
              "      <td>7620.000000</td>\n",
              "    </tr>\n",
              "    <tr>\n",
              "      <th>75%</th>\n",
              "      <td>7.308900e+09</td>\n",
              "      <td>6.450000e+05</td>\n",
              "      <td>4.000000</td>\n",
              "      <td>2.500000</td>\n",
              "      <td>2550.000000</td>\n",
              "      <td>1.070800e+04</td>\n",
              "      <td>2.000000</td>\n",
              "      <td>0.000000</td>\n",
              "      <td>0.000000</td>\n",
              "      <td>4.000000</td>\n",
              "      <td>8.000000</td>\n",
              "      <td>2210.000000</td>\n",
              "      <td>560.000000</td>\n",
              "      <td>1997.000000</td>\n",
              "      <td>0.000000</td>\n",
              "      <td>98118.000000</td>\n",
              "      <td>47.678000</td>\n",
              "      <td>-122.125000</td>\n",
              "      <td>2360.000000</td>\n",
              "      <td>10083.000000</td>\n",
              "    </tr>\n",
              "    <tr>\n",
              "      <th>max</th>\n",
              "      <td>9.900000e+09</td>\n",
              "      <td>7.700000e+06</td>\n",
              "      <td>33.000000</td>\n",
              "      <td>8.000000</td>\n",
              "      <td>12050.000000</td>\n",
              "      <td>1.651359e+06</td>\n",
              "      <td>3.500000</td>\n",
              "      <td>1.000000</td>\n",
              "      <td>4.000000</td>\n",
              "      <td>5.000000</td>\n",
              "      <td>13.000000</td>\n",
              "      <td>9410.000000</td>\n",
              "      <td>4820.000000</td>\n",
              "      <td>2015.000000</td>\n",
              "      <td>2015.000000</td>\n",
              "      <td>98199.000000</td>\n",
              "      <td>47.777600</td>\n",
              "      <td>-121.315000</td>\n",
              "      <td>6210.000000</td>\n",
              "      <td>871200.000000</td>\n",
              "    </tr>\n",
              "  </tbody>\n",
              "</table>\n",
              "</div>"
            ],
            "text/plain": [
              "                 id         price      bedrooms     bathrooms   sqft_living  \\\n",
              "count  2.161300e+04  2.161300e+04  20479.000000  20545.000000  20503.000000   \n",
              "mean   4.580302e+09  5.400881e+05      3.372821      2.113507   2081.073697   \n",
              "std    2.876566e+09  3.671272e+05      0.930711      0.768913    915.043176   \n",
              "min    1.000102e+06  7.500000e+04      0.000000      0.000000    290.000000   \n",
              "25%    2.123049e+09  3.219500e+05      3.000000      1.500000   1430.000000   \n",
              "50%    3.904930e+09  4.500000e+05      3.000000      2.250000   1920.000000   \n",
              "75%    7.308900e+09  6.450000e+05      4.000000      2.500000   2550.000000   \n",
              "max    9.900000e+09  7.700000e+06     33.000000      8.000000  12050.000000   \n",
              "\n",
              "           sqft_lot        floors    waterfront          view     condition  \\\n",
              "count  2.056900e+04  21613.000000  21613.000000  21613.000000  21613.000000   \n",
              "mean   1.517982e+04      1.494309      0.007542      0.234303      3.409430   \n",
              "std    4.148617e+04      0.539989      0.086517      0.766318      0.650743   \n",
              "min    5.200000e+02      1.000000      0.000000      0.000000      1.000000   \n",
              "25%    5.040000e+03      1.000000      0.000000      0.000000      3.000000   \n",
              "50%    7.620000e+03      1.500000      0.000000      0.000000      3.000000   \n",
              "75%    1.070800e+04      2.000000      0.000000      0.000000      4.000000   \n",
              "max    1.651359e+06      3.500000      1.000000      4.000000      5.000000   \n",
              "\n",
              "              grade    sqft_above  sqft_basement      yr_built  yr_renovated  \\\n",
              "count  21613.000000  21613.000000   21613.000000  21613.000000  21613.000000   \n",
              "mean       7.656873   1788.390691     291.509045   1971.005136     84.402258   \n",
              "std        1.175459    828.090978     442.575043     29.373411    401.679240   \n",
              "min        1.000000    290.000000       0.000000   1900.000000      0.000000   \n",
              "25%        7.000000   1190.000000       0.000000   1951.000000      0.000000   \n",
              "50%        7.000000   1560.000000       0.000000   1975.000000      0.000000   \n",
              "75%        8.000000   2210.000000     560.000000   1997.000000      0.000000   \n",
              "max       13.000000   9410.000000    4820.000000   2015.000000   2015.000000   \n",
              "\n",
              "            zipcode           lat          long  sqft_living15     sqft_lot15  \n",
              "count  21613.000000  21613.000000  21613.000000   21613.000000   21613.000000  \n",
              "mean   98077.939805     47.560053   -122.213896    1986.552492   12768.455652  \n",
              "std       53.505026      0.138564      0.140828     685.391304   27304.179631  \n",
              "min    98001.000000     47.155900   -122.519000     399.000000     651.000000  \n",
              "25%    98033.000000     47.471000   -122.328000    1490.000000    5100.000000  \n",
              "50%    98065.000000     47.571800   -122.230000    1840.000000    7620.000000  \n",
              "75%    98118.000000     47.678000   -122.125000    2360.000000   10083.000000  \n",
              "max    98199.000000     47.777600   -121.315000    6210.000000  871200.000000  "
            ]
          },
          "execution_count": 12,
          "metadata": {},
          "output_type": "execute_result"
        }
      ],
      "source": [
        "salesdata.describe()\n"
      ]
    },
    {
      "cell_type": "code",
      "execution_count": null,
      "id": "c721900e",
      "metadata": {
        "scrolled": true,
        "id": "c721900e",
        "outputId": "7ae1dd88-1fec-419a-a4d1-ed077c1a4162"
      },
      "outputs": [
        {
          "data": {
            "text/html": [
              "<div>\n",
              "<style scoped>\n",
              "    .dataframe tbody tr th:only-of-type {\n",
              "        vertical-align: middle;\n",
              "    }\n",
              "\n",
              "    .dataframe tbody tr th {\n",
              "        vertical-align: top;\n",
              "    }\n",
              "\n",
              "    .dataframe thead th {\n",
              "        text-align: right;\n",
              "    }\n",
              "</style>\n",
              "<table border=\"1\" class=\"dataframe\">\n",
              "  <thead>\n",
              "    <tr style=\"text-align: right;\">\n",
              "      <th></th>\n",
              "      <th>price</th>\n",
              "      <th>bedrooms</th>\n",
              "      <th>bathrooms</th>\n",
              "      <th>sqft_living</th>\n",
              "      <th>sqft_lot</th>\n",
              "      <th>yr_built</th>\n",
              "      <th>zipcode</th>\n",
              "    </tr>\n",
              "  </thead>\n",
              "  <tbody>\n",
              "    <tr>\n",
              "      <th>0</th>\n",
              "      <td>221900.0</td>\n",
              "      <td>3.0</td>\n",
              "      <td>1.00</td>\n",
              "      <td>1180.0</td>\n",
              "      <td>5650.0</td>\n",
              "      <td>1955</td>\n",
              "      <td>98178</td>\n",
              "    </tr>\n",
              "    <tr>\n",
              "      <th>1</th>\n",
              "      <td>538000.0</td>\n",
              "      <td>3.0</td>\n",
              "      <td>2.25</td>\n",
              "      <td>2570.0</td>\n",
              "      <td>7242.0</td>\n",
              "      <td>1951</td>\n",
              "      <td>98125</td>\n",
              "    </tr>\n",
              "    <tr>\n",
              "      <th>2</th>\n",
              "      <td>180000.0</td>\n",
              "      <td>2.0</td>\n",
              "      <td>1.00</td>\n",
              "      <td>770.0</td>\n",
              "      <td>10000.0</td>\n",
              "      <td>1933</td>\n",
              "      <td>98028</td>\n",
              "    </tr>\n",
              "    <tr>\n",
              "      <th>3</th>\n",
              "      <td>604000.0</td>\n",
              "      <td>4.0</td>\n",
              "      <td>3.00</td>\n",
              "      <td>1960.0</td>\n",
              "      <td>5000.0</td>\n",
              "      <td>1965</td>\n",
              "      <td>98136</td>\n",
              "    </tr>\n",
              "    <tr>\n",
              "      <th>4</th>\n",
              "      <td>510000.0</td>\n",
              "      <td>3.0</td>\n",
              "      <td>2.00</td>\n",
              "      <td>1680.0</td>\n",
              "      <td>8080.0</td>\n",
              "      <td>1987</td>\n",
              "      <td>98074</td>\n",
              "    </tr>\n",
              "  </tbody>\n",
              "</table>\n",
              "</div>"
            ],
            "text/plain": [
              "      price  bedrooms  bathrooms  sqft_living  sqft_lot  yr_built  zipcode\n",
              "0  221900.0       3.0       1.00       1180.0    5650.0      1955    98178\n",
              "1  538000.0       3.0       2.25       2570.0    7242.0      1951    98125\n",
              "2  180000.0       2.0       1.00        770.0   10000.0      1933    98028\n",
              "3  604000.0       4.0       3.00       1960.0    5000.0      1965    98136\n",
              "4  510000.0       3.0       2.00       1680.0    8080.0      1987    98074"
            ]
          },
          "execution_count": 13,
          "metadata": {},
          "output_type": "execute_result"
        }
      ],
      "source": [
        "subset = salesdata[['price', 'bedrooms', 'bathrooms', 'sqft_living', 'sqft_lot', 'yr_built', 'zipcode']]\n",
        "subset.head()\n"
      ]
    },
    {
      "cell_type": "code",
      "execution_count": null,
      "id": "2883c9e8",
      "metadata": {
        "id": "2883c9e8",
        "outputId": "a6996944-5838-43b3-e0b7-793df4bed56a"
      },
      "outputs": [
        {
          "name": "stdout",
          "output_type": "stream",
          "text": [
            "price          float64\n",
            "bedrooms       float64\n",
            "bathrooms      float64\n",
            "sqft_living    float64\n",
            "sqft_lot       float64\n",
            "yr_built         int64\n",
            "zipcode          int64\n",
            "dtype: object\n"
          ]
        }
      ],
      "source": [
        "print(subset.dtypes)\n"
      ]
    },
    {
      "cell_type": "code",
      "execution_count": null,
      "id": "2f2e19a3",
      "metadata": {
        "id": "2f2e19a3",
        "outputId": "0d7dc9af-6bcd-4a42-cc6c-26ae65ad855d"
      },
      "outputs": [
        {
          "data": {
            "text/plain": [
              "price          21613\n",
              "bedrooms       20479\n",
              "bathrooms      20545\n",
              "sqft_living    20503\n",
              "sqft_lot       20569\n",
              "yr_built       21613\n",
              "dtype: int64"
            ]
          },
          "execution_count": 23,
          "metadata": {},
          "output_type": "execute_result"
        }
      ],
      "source": [
        "subset.count()"
      ]
    },
    {
      "cell_type": "code",
      "execution_count": null,
      "id": "63c79d0f",
      "metadata": {
        "id": "63c79d0f",
        "outputId": "dc67ee9e-e07f-45da-d5e0-3105cacfaac3"
      },
      "outputs": [
        {
          "data": {
            "text/html": [
              "<div>\n",
              "<style scoped>\n",
              "    .dataframe tbody tr th:only-of-type {\n",
              "        vertical-align: middle;\n",
              "    }\n",
              "\n",
              "    .dataframe tbody tr th {\n",
              "        vertical-align: top;\n",
              "    }\n",
              "\n",
              "    .dataframe thead th {\n",
              "        text-align: right;\n",
              "    }\n",
              "</style>\n",
              "<table border=\"1\" class=\"dataframe\">\n",
              "  <thead>\n",
              "    <tr style=\"text-align: right;\">\n",
              "      <th></th>\n",
              "      <th>price</th>\n",
              "      <th>bedrooms</th>\n",
              "      <th>bathrooms</th>\n",
              "      <th>sqft_living</th>\n",
              "      <th>sqft_lot</th>\n",
              "      <th>yr_built</th>\n",
              "    </tr>\n",
              "  </thead>\n",
              "  <tbody>\n",
              "    <tr>\n",
              "      <th>count</th>\n",
              "      <td>2.161300e+04</td>\n",
              "      <td>20479.000000</td>\n",
              "      <td>20545.000000</td>\n",
              "      <td>20503.000000</td>\n",
              "      <td>2.056900e+04</td>\n",
              "      <td>21613.000000</td>\n",
              "    </tr>\n",
              "    <tr>\n",
              "      <th>mean</th>\n",
              "      <td>5.400881e+05</td>\n",
              "      <td>3.372821</td>\n",
              "      <td>2.113507</td>\n",
              "      <td>2081.073697</td>\n",
              "      <td>1.517982e+04</td>\n",
              "      <td>1971.005136</td>\n",
              "    </tr>\n",
              "    <tr>\n",
              "      <th>std</th>\n",
              "      <td>3.671272e+05</td>\n",
              "      <td>0.930711</td>\n",
              "      <td>0.768913</td>\n",
              "      <td>915.043176</td>\n",
              "      <td>4.148617e+04</td>\n",
              "      <td>29.373411</td>\n",
              "    </tr>\n",
              "    <tr>\n",
              "      <th>min</th>\n",
              "      <td>7.500000e+04</td>\n",
              "      <td>0.000000</td>\n",
              "      <td>0.000000</td>\n",
              "      <td>290.000000</td>\n",
              "      <td>5.200000e+02</td>\n",
              "      <td>1900.000000</td>\n",
              "    </tr>\n",
              "    <tr>\n",
              "      <th>25%</th>\n",
              "      <td>3.219500e+05</td>\n",
              "      <td>3.000000</td>\n",
              "      <td>1.500000</td>\n",
              "      <td>1430.000000</td>\n",
              "      <td>5.040000e+03</td>\n",
              "      <td>1951.000000</td>\n",
              "    </tr>\n",
              "    <tr>\n",
              "      <th>50%</th>\n",
              "      <td>4.500000e+05</td>\n",
              "      <td>3.000000</td>\n",
              "      <td>2.250000</td>\n",
              "      <td>1920.000000</td>\n",
              "      <td>7.620000e+03</td>\n",
              "      <td>1975.000000</td>\n",
              "    </tr>\n",
              "    <tr>\n",
              "      <th>75%</th>\n",
              "      <td>6.450000e+05</td>\n",
              "      <td>4.000000</td>\n",
              "      <td>2.500000</td>\n",
              "      <td>2550.000000</td>\n",
              "      <td>1.070800e+04</td>\n",
              "      <td>1997.000000</td>\n",
              "    </tr>\n",
              "    <tr>\n",
              "      <th>max</th>\n",
              "      <td>7.700000e+06</td>\n",
              "      <td>33.000000</td>\n",
              "      <td>8.000000</td>\n",
              "      <td>12050.000000</td>\n",
              "      <td>1.651359e+06</td>\n",
              "      <td>2015.000000</td>\n",
              "    </tr>\n",
              "  </tbody>\n",
              "</table>\n",
              "</div>"
            ],
            "text/plain": [
              "              price      bedrooms     bathrooms   sqft_living      sqft_lot  \\\n",
              "count  2.161300e+04  20479.000000  20545.000000  20503.000000  2.056900e+04   \n",
              "mean   5.400881e+05      3.372821      2.113507   2081.073697  1.517982e+04   \n",
              "std    3.671272e+05      0.930711      0.768913    915.043176  4.148617e+04   \n",
              "min    7.500000e+04      0.000000      0.000000    290.000000  5.200000e+02   \n",
              "25%    3.219500e+05      3.000000      1.500000   1430.000000  5.040000e+03   \n",
              "50%    4.500000e+05      3.000000      2.250000   1920.000000  7.620000e+03   \n",
              "75%    6.450000e+05      4.000000      2.500000   2550.000000  1.070800e+04   \n",
              "max    7.700000e+06     33.000000      8.000000  12050.000000  1.651359e+06   \n",
              "\n",
              "           yr_built  \n",
              "count  21613.000000  \n",
              "mean    1971.005136  \n",
              "std       29.373411  \n",
              "min     1900.000000  \n",
              "25%     1951.000000  \n",
              "50%     1975.000000  \n",
              "75%     1997.000000  \n",
              "max     2015.000000  "
            ]
          },
          "execution_count": 24,
          "metadata": {},
          "output_type": "execute_result"
        }
      ],
      "source": [
        "subset.describe()"
      ]
    },
    {
      "cell_type": "code",
      "execution_count": null,
      "id": "4513b9b1",
      "metadata": {
        "scrolled": true,
        "id": "4513b9b1",
        "outputId": "c1b2e439-d2fe-49d5-b56d-1b8bca90489e"
      },
      "outputs": [
        {
          "name": "stdout",
          "output_type": "stream",
          "text": [
            "price             0\n",
            "bedrooms       1134\n",
            "bathrooms      1068\n",
            "sqft_living    1110\n",
            "sqft_lot       1044\n",
            "yr_built          0\n",
            "zipcode           0\n",
            "dtype: int64\n"
          ]
        }
      ],
      "source": [
        "### Viewing Null Values - Total Null per Column\n",
        "print(subset.isnull().sum())"
      ]
    },
    {
      "cell_type": "code",
      "execution_count": null,
      "id": "2255633f",
      "metadata": {
        "id": "2255633f",
        "outputId": "83ea7233-d186-4b1e-8da8-e7aa3f17f9a1"
      },
      "outputs": [
        {
          "name": "stdout",
          "output_type": "stream",
          "text": [
            "4356\n"
          ]
        }
      ],
      "source": [
        "num_missing = subset.isna().sum().sum()\n",
        "\n",
        "print(num_missing)"
      ]
    },
    {
      "cell_type": "code",
      "execution_count": null,
      "id": "a1cc2754",
      "metadata": {
        "scrolled": true,
        "id": "a1cc2754",
        "outputId": "c9c7f206-609f-46de-d816-ef0483369fd2"
      },
      "outputs": [
        {
          "name": "stdout",
          "output_type": "stream",
          "text": [
            "20.15\n"
          ]
        }
      ],
      "source": [
        "percentage = (4356 / 21613) * 100\n",
        "rounded_pct = round(percentage, 2)\n",
        "print(rounded_pct)\n"
      ]
    },
    {
      "cell_type": "code",
      "execution_count": null,
      "id": "13a0a120",
      "metadata": {
        "id": "13a0a120",
        "outputId": "b2b11e26-b392-4e17-9b49-27f447fcfc32"
      },
      "outputs": [
        {
          "name": "stdout",
          "output_type": "stream",
          "text": [
            "          price  bedrooms  bathrooms  sqft_living  sqft_lot  yr_built  zipcode\n",
            "0      221900.0       3.0       1.00       1180.0    5650.0      1955    98178\n",
            "1      538000.0       3.0       2.25       2570.0    7242.0      1951    98125\n",
            "2      180000.0       2.0       1.00        770.0   10000.0      1933    98028\n",
            "3      604000.0       4.0       3.00       1960.0    5000.0      1965    98136\n",
            "4      510000.0       3.0       2.00       1680.0    8080.0      1987    98074\n",
            "...         ...       ...        ...          ...       ...       ...      ...\n",
            "21608  360000.0       3.0       2.50       1530.0    1131.0      2009    98103\n",
            "21609  400000.0       4.0       2.50       2310.0    5813.0      2014    98146\n",
            "21610  402101.0       2.0       0.75       1020.0    1350.0      2009    98144\n",
            "21611  400000.0       3.0       2.50       1600.0    2388.0      2004    98027\n",
            "21612  325000.0       2.0       0.75       1020.0    1076.0      2008    98144\n",
            "\n",
            "[17618 rows x 7 columns]\n"
          ]
        }
      ],
      "source": [
        "### Removing Null data by Row \n",
        "data_clean = subset.dropna()\n",
        "print(data_clean)"
      ]
    },
    {
      "cell_type": "code",
      "execution_count": null,
      "id": "78593604",
      "metadata": {
        "id": "78593604",
        "outputId": "99b88a40-0152-4c60-82fa-24710d494266"
      },
      "outputs": [
        {
          "name": "stdout",
          "output_type": "stream",
          "text": [
            "          price  bedrooms  bathrooms  sqft_living  sqft_lot  yr_built  zipcode\n",
            "0      221900.0       3.0       1.00       1180.0    5650.0      1955    98178\n",
            "1      538000.0       3.0       2.25       2570.0    7242.0      1951    98125\n",
            "2      180000.0       2.0       1.00        770.0   10000.0      1933    98028\n",
            "3      604000.0       4.0       3.00       1960.0    5000.0      1965    98136\n",
            "4      510000.0       3.0       2.00       1680.0    8080.0      1987    98074\n",
            "...         ...       ...        ...          ...       ...       ...      ...\n",
            "21608  360000.0       3.0       2.50       1530.0    1131.0      2009    98103\n",
            "21609  400000.0       4.0       2.50       2310.0    5813.0      2014    98146\n",
            "21610  402101.0       2.0       0.75       1020.0    1350.0      2009    98144\n",
            "21611  400000.0       3.0       2.50       1600.0    2388.0      2004    98027\n",
            "21612  325000.0       2.0       0.75       1020.0    1076.0      2008    98144\n",
            "\n",
            "[17613 rows x 7 columns]\n"
          ]
        }
      ],
      "source": [
        "### Remove duplicate rows\n",
        "data_clean2 = data_clean.drop_duplicates()\n",
        "print(data_clean2)"
      ]
    },
    {
      "cell_type": "code",
      "execution_count": null,
      "id": "3aa320f6",
      "metadata": {
        "scrolled": true,
        "id": "3aa320f6",
        "outputId": "0bf98181-f792-447c-9aad-87380358485c"
      },
      "outputs": [
        {
          "name": "stdout",
          "output_type": "stream",
          "text": [
            "3574\n",
            "12\n",
            "29\n",
            "950\n",
            "8530\n",
            "116\n",
            "70\n"
          ]
        }
      ],
      "source": [
        "### Check the number of unique values in a column\n",
        "print(data_clean2['price'].nunique())\n",
        "print(data_clean2['bedrooms'].nunique())\n",
        "print(data_clean2['bathrooms'].nunique())\n",
        "print(data_clean2['sqft_living'].nunique())\n",
        "print(data_clean2['sqft_lot'].nunique())\n",
        "print(data_clean2['yr_built'].nunique())\n",
        "print(data_clean2['zipcode'].nunique())"
      ]
    },
    {
      "cell_type": "code",
      "execution_count": null,
      "id": "4ace157b",
      "metadata": {
        "id": "4ace157b"
      },
      "outputs": [],
      "source": [
        "### If the number of unique values in a column is large, the distribution of values is skewed, \n",
        "### or the granularity of the data is too fine-grained, you may need to aggregate the data. \n",
        "### Similarly, if the dataset is very large, aggregation may be necessary to reduce the size of the dataset\n",
        "### for easier analysis or visualization."
      ]
    },
    {
      "cell_type": "code",
      "execution_count": null,
      "id": "0cbff836",
      "metadata": {
        "id": "0cbff836",
        "outputId": "fdda1676-bafd-4297-fecd-7e33c2aeb2d7"
      },
      "outputs": [
        {
          "name": "stdout",
          "output_type": "stream",
          "text": [
            "450000.0     143\n",
            "350000.0     135\n",
            "550000.0     126\n",
            "500000.0     125\n",
            "400000.0     122\n",
            "            ... \n",
            "2538000.0      1\n",
            "1445000.0      1\n",
            "738500.0       1\n",
            "507200.0       1\n",
            "402101.0       1\n",
            "Name: price, Length: 3574, dtype: int64\n",
            "3.0     7957\n",
            "4.0     5610\n",
            "2.0     2266\n",
            "5.0     1333\n",
            "6.0      233\n",
            "1.0      158\n",
            "7.0       29\n",
            "8.0       10\n",
            "0.0        9\n",
            "9.0        4\n",
            "10.0       3\n",
            "33.0       1\n",
            "Name: bedrooms, dtype: int64\n",
            "2.50    4406\n",
            "1.00    3146\n",
            "1.75    2475\n",
            "2.25    1680\n",
            "2.00    1569\n",
            "1.50    1176\n",
            "2.75     946\n",
            "3.00     616\n",
            "3.50     582\n",
            "3.25     476\n",
            "3.75     135\n",
            "4.00     109\n",
            "4.50      79\n",
            "4.25      67\n",
            "0.75      60\n",
            "4.75      23\n",
            "5.00      17\n",
            "5.25      10\n",
            "5.50      10\n",
            "1.25       7\n",
            "0.00       6\n",
            "6.00       5\n",
            "0.50       4\n",
            "6.25       2\n",
            "5.75       2\n",
            "6.50       2\n",
            "8.00       1\n",
            "6.75       1\n",
            "7.50       1\n",
            "Name: bathrooms, dtype: int64\n",
            "1300.0    117\n",
            "1400.0    113\n",
            "1440.0    112\n",
            "1800.0    110\n",
            "1010.0    107\n",
            "         ... \n",
            "5844.0      1\n",
            "2507.0      1\n",
            "4530.0      1\n",
            "5720.0      1\n",
            "1425.0      1\n",
            "Name: sqft_living, Length: 950, dtype: int64\n",
            "5000.0     296\n",
            "6000.0     236\n",
            "4000.0     202\n",
            "7200.0     176\n",
            "7500.0     100\n",
            "          ... \n",
            "2731.0       1\n",
            "20553.0      1\n",
            "39586.0      1\n",
            "20001.0      1\n",
            "1076.0       1\n",
            "Name: sqft_lot, Length: 8530, dtype: int64\n",
            "2014    453\n",
            "2006    370\n",
            "2005    363\n",
            "2004    357\n",
            "2003    346\n",
            "       ... \n",
            "1933     24\n",
            "1902     22\n",
            "1935     20\n",
            "1901     20\n",
            "1934     19\n",
            "Name: yr_built, Length: 116, dtype: int64\n",
            "98103    484\n",
            "98115    479\n",
            "98038    466\n",
            "98042    457\n",
            "98117    456\n",
            "        ... \n",
            "98102     83\n",
            "98010     80\n",
            "98024     64\n",
            "98148     49\n",
            "98039     41\n",
            "Name: zipcode, Length: 70, dtype: int64\n"
          ]
        }
      ],
      "source": [
        "### Check the distribution of values in a column\n",
        "print(data_clean2['price'].value_counts())\n",
        "print(data_clean2['bedrooms'].value_counts())\n",
        "print(data_clean2['bathrooms'].value_counts())\n",
        "print(data_clean2['sqft_living'].value_counts())\n",
        "print(data_clean2['sqft_lot'].value_counts())\n",
        "print(data_clean2['yr_built'].value_counts())\n",
        "print(data_clean2['zipcode'].value_counts())"
      ]
    },
    {
      "cell_type": "code",
      "execution_count": null,
      "id": "29b7bdd2",
      "metadata": {
        "id": "29b7bdd2",
        "outputId": "fc29b552-b997-4945-f607-96b363d28559"
      },
      "outputs": [
        {
          "name": "stdout",
          "output_type": "stream",
          "text": [
            "(17613, 7)\n"
          ]
        }
      ],
      "source": [
        "# Check the size of the dataset\n",
        "print(data_clean2.shape)"
      ]
    },
    {
      "cell_type": "code",
      "execution_count": null,
      "id": "6fc759df",
      "metadata": {
        "id": "6fc759df",
        "outputId": "bb01e55c-bd93-412a-f7ff-6a2615f45cac"
      },
      "outputs": [
        {
          "name": "stdout",
          "output_type": "stream",
          "text": [
            "75000.0 7700000.0\n",
            "0.0 33.0\n",
            "0.0 8.0\n",
            "370.0 12050.0\n",
            "520.0 1651359.0\n",
            "1900 2015\n",
            "98001 98199\n"
          ]
        }
      ],
      "source": [
        "# Check the granularity of the data\n",
        "print(data_clean2['price'].min(), data_clean2['price'].max())\n",
        "print(data_clean2['bedrooms'].min(), data_clean2['bedrooms'].max())\n",
        "print(data_clean2['bathrooms'].min(), data_clean2['bathrooms'].max())\n",
        "print(data_clean2['sqft_living'].min(), data_clean2['sqft_living'].max())\n",
        "print(data_clean2['sqft_lot'].min(), data_clean2['sqft_lot'].max())\n",
        "print(data_clean2['yr_built'].min(), data_clean2['yr_built'].max())\n",
        "print(data_clean2['zipcode'].min(), data_clean2['zipcode'].max())"
      ]
    },
    {
      "cell_type": "code",
      "execution_count": null,
      "id": "f319027e",
      "metadata": {
        "id": "f319027e"
      },
      "outputs": [],
      "source": [
        "### Calculate the skewness of a column\n",
        "### Skewness from Pandas:\n",
        "### The skew() function in Pandas can be used to calculate the skewness of a sample distribution. The function returns a value \n",
        "### that indicates the degree of skewness. If the value is positive, the distribution is skewed to the right (i.e., it has a \n",
        "### long right tail). If the value is negative, the distribution is skewed to the left (i.e., it has a long left tail). If the \n",
        "### value is close to zero, the distribution is approximately symmetric."
      ]
    },
    {
      "cell_type": "code",
      "execution_count": null,
      "id": "61b795bb",
      "metadata": {
        "id": "61b795bb",
        "outputId": "bb676382-c0c1-4376-e0d3-aa9b367c0609"
      },
      "outputs": [
        {
          "name": "stdout",
          "output_type": "stream",
          "text": [
            "              Skewness\n",
            "price         3.915629\n",
            "bedrooms      2.246017\n",
            "bathrooms     0.491070\n",
            "sqft_living   1.406670\n",
            "sqft_lot     13.438664\n",
            "yr_built     -0.455684\n",
            "zipcode       0.398936\n"
          ]
        }
      ],
      "source": [
        "df = pd.DataFrame(data_clean2)\n",
        "skewness = df.skew()\n",
        "summary = pd.DataFrame({'Skewness': skewness})\n",
        "print(summary)"
      ]
    },
    {
      "cell_type": "code",
      "execution_count": null,
      "id": "6fa06375",
      "metadata": {
        "scrolled": true,
        "id": "6fa06375",
        "outputId": "534568a9-97c4-469b-8ac5-5f6a3297c100"
      },
      "outputs": [
        {
          "data": {
            "image/png": "[encoded data removed]",
            "text/plain": [
              "<Figure size 640x480 with 1 Axes>"
            ]
          },
          "metadata": {},
          "output_type": "display_data"
        }
      ],
      "source": [
        "# Create a box plot\n",
        "\n",
        "fig, ax = plt.subplots()\n",
        "ax.boxplot(data_clean2)\n",
        "ax.set_xlabel('Variable')\n",
        "ax.set_ylabel('Value')\n",
        "ax.set_title('Box Plot')\n",
        "plt.show()"
      ]
    },
    {
      "cell_type": "code",
      "execution_count": null,
      "id": "745a23ae",
      "metadata": {
        "id": "745a23ae"
      },
      "outputs": [],
      "source": [
        "### Home price and sqft_lot have many outliers. "
      ]
    },
    {
      "cell_type": "code",
      "execution_count": null,
      "id": "03b030ef",
      "metadata": {
        "id": "03b030ef"
      },
      "outputs": [],
      "source": [
        "### Normalization is the process of scaling numeric data to a common range. It is a common preprocessing step in machine \n",
        "### learning to improve the performance of models that use distance-based measures.\n",
        "### In Python, you can perform normalization using various libraries such as Scikit-learn, NumPy, and Pandas."
      ]
    },
    {
      "cell_type": "code",
      "execution_count": null,
      "id": "637f97f8",
      "metadata": {
        "id": "637f97f8",
        "outputId": "71a4f81b-e72d-4197-8ab8-fa92ad5329fe"
      },
      "outputs": [
        {
          "name": "stdout",
          "output_type": "stream",
          "text": [
            "[[1.92655738e-02 9.09090909e-02 1.25000000e-01 ... 3.10751079e-03\n",
            "  4.78260870e-01 8.93939394e-01]\n",
            " [6.07213115e-02 9.09090909e-02 2.81250000e-01 ... 4.07186891e-03\n",
            "  4.43478261e-01 6.26262626e-01]\n",
            " [1.37704918e-02 6.06060606e-02 1.25000000e-01 ... 5.74253455e-03\n",
            "  2.86956522e-01 1.36363636e-01]\n",
            " ...\n",
            " [4.28984918e-02 6.06060606e-02 9.37500000e-02 ... 5.02774650e-04\n",
            "  9.47826087e-01 7.22222222e-01]\n",
            " [4.26229508e-02 9.09090909e-02 3.12500000e-01 ... 1.13154584e-03\n",
            "  9.04347826e-01 1.31313131e-01]\n",
            " [3.27868852e-02 6.06060606e-02 9.37500000e-02 ... 3.36798440e-04\n",
            "  9.39130435e-01 7.22222222e-01]]\n"
          ]
        }
      ],
      "source": [
        "# Create a MinMaxScaler object\n",
        "scaler = MinMaxScaler()\n",
        "normalized_data = scaler.fit_transform(data_clean2)\n",
        "print(normalized_data)"
      ]
    },
    {
      "cell_type": "code",
      "execution_count": null,
      "id": "322624d3",
      "metadata": {
        "id": "322624d3",
        "outputId": "1a3f5224-7563-4bf5-ca75-20c0c745cf43"
      },
      "outputs": [
        {
          "data": {
            "image/png": "[encoded data removed]",
            "text/plain": [
              "<Figure size 640x480 with 1 Axes>"
            ]
          },
          "metadata": {},
          "output_type": "display_data"
        }
      ],
      "source": [
        "# Create a box plot of Normalized Data\n",
        "\n",
        "fig, ax = plt.subplots()\n",
        "ax.boxplot(normalized_data)\n",
        "ax.set_xlabel('Variable')\n",
        "ax.set_ylabel('Value')\n",
        "ax.set_title('Box Plot')\n",
        "plt.show()"
      ]
    }
  ],
  "metadata": {
    "kernelspec": {
      "display_name": "Python 3.8.10 - rstudio",
      "language": "python",
      "name": "rstudio-user-3.8.10"
    },
    "language_info": {
      "codemirror_mode": {
        "name": "ipython",
        "version": 3
      },
      "file_extension": ".py",
      "mimetype": "text/x-python",
      "name": "python",
      "nbconvert_exporter": "python",
      "pygments_lexer": "ipython3",
      "version": "3.8.10"
    },
    "colab": {
      "provenance": [],
      "include_colab_link": true
    }
  },
  "nbformat": 4,
  "nbformat_minor": 5
}